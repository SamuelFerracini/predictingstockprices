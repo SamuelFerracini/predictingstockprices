{
 "cells": [
  {
   "cell_type": "code",
   "execution_count": 20,
   "metadata": {},
   "outputs": [],
   "source": [
    "import pandas as pd\n",
    "import math, datetime\n",
    "import numpy as np\n",
    "from sklearn import preprocessing, cross_validation, svm\n",
    "from sklearn.linear_model import LinearRegression\n",
    "import matplotlib.pyplot as plt\n",
    "from matplotlib import style\n",
    "import pickle\n",
    "\n",
    "style.use('ggplot')"
   ]
  },
  {
   "cell_type": "code",
   "execution_count": 21,
   "metadata": {},
   "outputs": [
    {
     "name": "stdout",
     "output_type": "stream",
     "text": [
      "                 Open       High        Low      Close  Adj Close    Volume\n",
      "Date                                                                       \n",
      "2013-09-16  18.430000  18.719999  18.170000  18.450001  17.225540  33961100\n",
      "2013-09-17  18.590000  18.600000  18.299999  18.530001  17.300230  18948400\n",
      "2013-09-18  18.410000  19.000000  18.160000  18.900000  17.645674  30957700\n",
      "2013-09-19  18.959999  19.309999  18.760000  19.160000  17.888418  24470200\n",
      "2013-09-20  19.090000  19.180000  18.780001  18.940001  17.683020  18955300\n"
     ]
    }
   ],
   "source": [
    "#Reading data\n",
    "df = pd.read_csv('PETR4.SA.csv', header=0, index_col='Date', parse_dates=True)\n",
    "print(df.head())"
   ]
  },
  {
   "cell_type": "code",
   "execution_count": 22,
   "metadata": {},
   "outputs": [],
   "source": [
    "# High - Low percentage\n",
    "df['HL_PCT'] = (df['High'] - df['Low']) / df['Low'] * 100.0\n",
    "# Percentage change\n",
    "df['PCT_change'] = (df['Close'] - df['Open']) / df['Open'] * 100.0\n",
    "\n",
    "df = df[['Close', 'HL_PCT', 'PCT_change', 'Volume']]\n"
   ]
  },
  {
   "cell_type": "code",
   "execution_count": 23,
   "metadata": {},
   "outputs": [
    {
     "name": "stdout",
     "output_type": "stream",
     "text": [
      "13\n"
     ]
    }
   ],
   "source": [
    "# Select wich col will be used to forecast the prices\n",
    "forecast_col = 'Close'\n",
    "# Fill the NaN values with -99999, the algorithm will ignore these values\n",
    "df.fillna(-99999, inplace=True)\n",
    "\n",
    "# The number of predictions that will be done\n",
    "forecast_out = int(math.ceil(0.01*len(df)))\n",
    "print(forecast_out)\n",
    "\n",
    "# Put all the values up the forecast_out number\n",
    "df['label'] = df[forecast_col].shift(-forecast_out)"
   ]
  },
  {
   "cell_type": "code",
   "execution_count": 24,
   "metadata": {},
   "outputs": [],
   "source": [
    "X = np.array(df.drop(['label'], 1))\n",
    "# Processing the entire data ignoring the 'label' col\n",
    "X = preprocessing.scale(X)\n",
    "\n",
    "# Array of predictions \n",
    "X_lately = X[-forecast_out:]\n",
    "X = X[:-forecast_out]\n",
    "\n",
    "df.dropna(inplace=True)\n",
    "y = np.array(df['label'])"
   ]
  },
  {
   "cell_type": "code",
   "execution_count": 25,
   "metadata": {},
   "outputs": [
    {
     "name": "stdout",
     "output_type": "stream",
     "text": [
      "0.8207421271348417\n"
     ]
    }
   ],
   "source": [
    "# Setting up the machine learning algorithm\n",
    "X_train, X_test, y_train, y_test = cross_validation.train_test_split(X, y, test_size=0.2)\n",
    "\n",
    "\n",
    "# This is an example to use with big data, we don't need to train data every time we run the program\n",
    "# with Pickle we can save the data trained before.\n",
    "##clf = LinearRegression(n_jobs=-1)\n",
    "##clf.fit(X_train, y_train)\n",
    "##with open('linearregression.pickle', 'wb') as f:\n",
    "##    pickle.dump(clf, f)\n",
    "\n",
    "# And now we read the file created by pickle\n",
    "pickle_in = open('linearregression.pickle', 'rb')\n",
    "clf = pickle.load(pickle_in)\n",
    "\n",
    "# This is an interesting value, this determines how much our algorithm can be \"trusted\" in percentage\n",
    "accuracy = clf.score(X_test, y_test)\n",
    "print(accuracy)"
   ]
  },
  {
   "cell_type": "code",
   "execution_count": 26,
   "metadata": {},
   "outputs": [
    {
     "name": "stdout",
     "output_type": "stream",
     "text": [
      "[18.05832822 18.78399509 18.19473054 18.78409045 18.84048094 18.28818431\n",
      " 18.40067368 18.5988051  18.8047416  18.11847462 18.54127022 18.40731917\n",
      " 18.43331584] 0.8207421271348417 13\n"
     ]
    }
   ],
   "source": [
    "# Predicting some values\n",
    "forecast_set = clf.predict(X_lately)\n",
    "print(forecast_set, accuracy, forecast_out)"
   ]
  },
  {
   "cell_type": "code",
   "execution_count": 27,
   "metadata": {},
   "outputs": [
    {
     "data": {
      "image/png": "[encoded data removed]",
      "text/plain": [
       "<Figure size 432x288 with 1 Axes>"
      ]
     },
     "metadata": {},
     "output_type": "display_data"
    }
   ],
   "source": [
    "\n",
    "# Plotting a graph with real prices and forecasts generated by our algorithm \n",
    "df['Forecast'] = np.nan\n",
    "\n",
    "last_date = df.iloc[-1].name\n",
    "last_unix = last_date.timestamp()\n",
    "one_day = 86400\n",
    "next_unix = last_unix + one_day\n",
    "\n",
    "for i in forecast_set:\n",
    "    next_date = datetime.datetime.fromtimestamp(next_unix)\n",
    "    next_unix += one_day\n",
    "    df.loc[next_date] =  [np.nan for _ in range(len(df.columns)-1)] + [i]\n",
    "\n",
    "df['Close'].plot()\n",
    "df['Forecast'].plot()\n",
    "plt.legend(loc=4)\n",
    "plt.xlabel('Date')\n",
    "plt.ylabel('Price')\n",
    "plt.show()"
   ]
  },
  {
   "cell_type": "code",
   "execution_count": 29,
   "metadata": {},
   "outputs": [
    {
     "name": "stdout",
     "output_type": "stream",
     "text": [
      "[NbConvertApp] Converting notebook regressionintro.ipynb to script\n",
      "[NbConvertApp] Writing 2794 bytes to regressionintro.py\n"
     ]
    }
   ],
   "source": [
    "!jupyter nbconvert --to script regressionintro.ipynb\n"
   ]
  },
  {
   "cell_type": "code",
   "execution_count": null,
   "metadata": {},
   "outputs": [],
   "source": []
  }
 ],
 "metadata": {
  "kernelspec": {
   "display_name": "Python 3",
   "language": "python",
   "name": "python3"
  },
  "language_info": {
   "codemirror_mode": {
    "name": "ipython",
    "version": 3
   },
   "file_extension": ".py",
   "mimetype": "text/x-python",
   "name": "python",
   "nbconvert_exporter": "python",
   "pygments_lexer": "ipython3",
   "version": "3.6.5"
  }
 },
 "nbformat": 4,
 "nbformat_minor": 2
}
